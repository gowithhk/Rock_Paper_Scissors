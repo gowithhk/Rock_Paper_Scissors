{
 "cells": [
  {
   "cell_type": "markdown",
   "metadata": {},
   "source": [
    "# Project 5: Essentials of Python Programming\n",
    "Project: Developing ‘Rock, Paper and Scissors’ game using Python programming\n"
   ]
  },
  {
   "cell_type": "markdown",
   "metadata": {},
   "source": [
    "## Aim: Write a Python program to develop a Rock, Papers and Scissors game to be played against a computer.\n"
   ]
  },
  {
   "cell_type": "markdown",
   "metadata": {},
   "source": [
    "### Made by : Harsh Kumar\n",
    "### Email ID : gowithhk1999@gmail.com"
   ]
  },
  {
   "cell_type": "code",
   "execution_count": 1,
   "metadata": {},
   "outputs": [],
   "source": [
    "#creating elements and moves lists\n",
    "elements = ['Rock', 'Paper', 'Scissors']\n",
    "moves = ['crushes', 'covers', 'cuts']"
   ]
  },
  {
   "cell_type": "code",
   "execution_count": 4,
   "metadata": {},
   "outputs": [
    {
     "name": "stdout",
     "output_type": "stream",
     "text": [
      "Enter the number of times you want to play the game?\n",
      "3\n"
     ]
    }
   ],
   "source": [
    "#creating variable n and accepting no. of times/ rounds of the game\n",
    "n = int(input(\"Enter the number of times you want to play the game?\\n\"))"
   ]
  },
  {
   "cell_type": "code",
   "execution_count": 5,
   "metadata": {},
   "outputs": [
    {
     "name": "stdout",
     "output_type": "stream",
     "text": [
      "Enter the first move : 1\n",
      "Enter the second move : 2\n",
      "\n",
      " Invalid Inputs!! Try Again!\n",
      "\n",
      " Do you wish to Continue? \n",
      " 1. Press Y to Continue \n",
      " 2. Press Q to Exit\n",
      "Q\n"
     ]
    }
   ],
   "source": [
    "#while loop\n",
    "while n>0:\n",
    "    \n",
    "    #taking inputs/ elements from the Players\n",
    "    p1 = input(\"Enter the first move : \").title() #Player 1's Input\n",
    "    p2 = input(\"Enter the second move : \").title() #Player 2's Input\n",
    "    \n",
    "    #checking and validating the inputs\n",
    "    if(p1.isdigit() and p2.isdigit()):\n",
    "        print(\"\\n Invalid Inputs!! Try Again!\") #If both the inputs are digits, It returns Invalid Result!\n",
    "\n",
    "    elif(p1.istitle() and p2.isdigit()):\n",
    "        print(\"\\n Invalid Inputs!! Try Again!\") #If one of the input is digit and the other is a string, It returns Invalid Result!\n",
    "        \n",
    "    elif(p1.isdigit() and p2.istitle()):\n",
    "        print(\"\\n Invalid Inputs!! Try Again!\") #If one of the input is digit and the other is a string, It returns Invalid Result!\n",
    "    \n",
    "    #nested conditional statements\n",
    "    elif(p1.istitle() and p2.istitle()): # If both the Inputs are String\n",
    "        if(p1 == elements[0]):#Rock\n",
    "            if(p2 == elements[1]):#paper\n",
    "                print(elements[1]+' '+moves[1]+' '+elements[0])\n",
    "                print(\"\\n Hence, Player 2 wins!!\") #Since Paper covers the Rock\n",
    "            elif(p2 == elements[2]):#scissor\n",
    "                print(elements[0]+' '+moves[0]+' '+elements[2])\n",
    "                print(\"\\n Hence, Player 1 wins!!\") #Since Scissors cuts the Paper\n",
    "            elif(p2 == elements[0]):\n",
    "                print(\"\\n Sorry, Same moves! Please play again!\") #Since moves are same for the both players\n",
    "            else:\n",
    "                pass\n",
    "\n",
    "        elif(p1 == elements[1]):#Paper\n",
    "            if(p2 == elements[0]):#Rock\n",
    "                print(elements[0]+' '+moves[1]+' '+elements[1])\n",
    "                print(\"\\n Hence, Player 1 wins!!\") #Since Paper covers the Rock\n",
    "            elif(p2 == elements[2]):#Scissors\n",
    "                print(elements[2]+' '+moves[2]+' '+elements[1])\n",
    "                print(\"\\n Hence, Player 2 wins!!\") #Since Rock crushes the Scissors\n",
    "            elif(p2 == elements[0]):\n",
    "                print(\"\\n Sorry, Same moves! Please play again!\") #Since moves are same for both the players\n",
    "            else:\n",
    "                 pass \n",
    "                \n",
    "        elif(p1 == elements[2]):#Scissors\n",
    "            if(p2 == elements[0]):#Rock\n",
    "                print(elements[0]+' '+moves[0]+' '+elements[2])\n",
    "                print(\"\\n Hence, Player 2 wins!!\") #Since Rock crushes the Scissors\n",
    "            elif(p2 == elements[2]):#Paper\n",
    "                print(elements[0]+' '+moves[2]+' '+elements[2])\n",
    "                print(\"\\n Hence, Player 1 wins!!\") #Since Scissors cuts the Paper\n",
    "            elif(p2 == elements[0]):\n",
    "                print(\"\\n Sorry, Same moves! Please play again!\") #Since moves are same for both the players\n",
    "            else:\n",
    "                pass\n",
    "\n",
    "        else:\n",
    "            print(\"\\n Invalid Inputs! Please choose inputs between 'Rock/ Paper/ Scissors' \") #When Inputs are other than the elements list\n",
    "\n",
    "    else:\n",
    "        pass #pass statement\n",
    "    \n",
    "    #takes choice to continue or exit the game\n",
    "    choice = input('\\n Do you wish to Continue? \\n 1. Press Y to Continue \\n 2. Press Q to Exit\\n')\n",
    "    \n",
    "    if choice == \"Y\": #Y for continue\n",
    "        pass\n",
    "    elif choice == \"Q\": #Q for Quit\n",
    "        break\n",
    "    else:\n",
    "        pass\n",
    "    \n",
    "    n = n-1 #decreases the counter variable by 1\n"
   ]
  },
  {
   "cell_type": "code",
   "execution_count": null,
   "metadata": {},
   "outputs": [],
   "source": []
  }
 ],
 "metadata": {
  "kernelspec": {
   "display_name": "Python 3",
   "language": "python",
   "name": "python3"
  },
  "language_info": {
   "codemirror_mode": {
    "name": "ipython",
    "version": 3
   },
   "file_extension": ".py",
   "mimetype": "text/x-python",
   "name": "python",
   "nbconvert_exporter": "python",
   "pygments_lexer": "ipython3",
   "version": "3.8.5"
  }
 },
 "nbformat": 4,
 "nbformat_minor": 4
}
